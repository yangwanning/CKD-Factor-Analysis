{
 "cells": [
  {
   "cell_type": "markdown",
   "metadata": {},
   "source": [
    "# Data Exploration"
   ]
  },
  {
   "cell_type": "markdown",
   "metadata": {},
   "source": [
    "## Import Data"
   ]
  },
  {
   "cell_type": "code",
   "execution_count": 1,
   "metadata": {},
   "outputs": [],
   "source": [
    "import numpy as np\n",
    "import pandas as pd\n",
    "import matplotlib.pyplot as plt\n",
    "df = pd.read_csv(\"ckd.csv\")\n",
    "data = df.drop(\"id\",axis = 1)\n",
    "Y_ori = data[\"CKD\"]\n",
    "X_ori = data.drop(\"CKD\",axis = 1)"
   ]
  },
  {
   "cell_type": "markdown",
   "metadata": {},
   "source": [
    "## Check the data   \n",
    "1. check the label ratio \n",
    "2. check the dimension of dataset\n",
    "3. check the type of each col\n",
    "4. check missing value proportion of each col\n",
    "5. Check the dummy variable"
   ]
  },
  {
   "cell_type": "code",
   "execution_count": 2,
   "metadata": {},
   "outputs": [
    {
     "data": {
      "image/png": "[encoded data removed]",
      "text/plain": [
       "<Figure size 432x288 with 1 Axes>"
      ]
     },
     "metadata": {
      "needs_background": "light"
     },
     "output_type": "display_data"
    },
    {
     "name": "stdout",
     "output_type": "stream",
     "text": [
      "0.06873385012919897\n"
     ]
    }
   ],
   "source": [
    "#  check the label ratio \n",
    "df.CKD.plot(kind = 'hist')\n",
    "plt.xlabel('CKD')\n",
    "plt.ylabel('number of cases')\n",
    "plt.show()\n",
    "rate = (df.CKD==1).sum()/(df.CKD==0).sum()\n",
    "print((df.CKD==1).sum()/(df.CKD==0).sum())"
   ]
  },
  {
   "cell_type": "code",
   "execution_count": 3,
   "metadata": {},
   "outputs": [
    {
     "data": {
      "text/plain": [
       "(4136, 40)"
      ]
     },
     "execution_count": 3,
     "metadata": {},
     "output_type": "execute_result"
    }
   ],
   "source": [
    "# dimension of datase\n",
    "df.shape"
   ]
  },
  {
   "cell_type": "code",
   "execution_count": 4,
   "metadata": {},
   "outputs": [
    {
     "data": {
      "text/plain": [
       "Age                    int64\n",
       "Female                 int64\n",
       "Educ                   int64\n",
       "Unmarried              int64\n",
       "Income                 int64\n",
       "Insured                int64\n",
       "Weight               float64\n",
       "Height               float64\n",
       "BMI                  float64\n",
       "Obese                  int64\n",
       "Waist                float64\n",
       "SBP                    int64\n",
       "DBP                    int64\n",
       "HDL                    int64\n",
       "LDL                    int64\n",
       "Total.Chol             int64\n",
       "Dyslipidemia           int64\n",
       "PVD                    int64\n",
       "Activity               int64\n",
       "PoorVision             int64\n",
       "Smoker                 int64\n",
       "Hypertension           int64\n",
       "Fam.Hypertension       int64\n",
       "Diabetes               int64\n",
       "Fam.Diabetes           int64\n",
       "Stroke                 int64\n",
       "CVD                    int64\n",
       "Fam.CVD                int64\n",
       "CHF                    int64\n",
       "Anemia                 int64\n",
       "Racegrpblack           int64\n",
       "Racegrphispa           int64\n",
       "Racegrpother           int64\n",
       "Racegrpwhite           int64\n",
       "CareSourceclinic       int64\n",
       "CareSourceDrHMO        int64\n",
       "CareSourcenoplace      int64\n",
       "CareSourceother        int64\n",
       "dtype: object"
      ]
     },
     "execution_count": 4,
     "metadata": {},
     "output_type": "execute_result"
    }
   ],
   "source": [
    "X_ori.dtypes"
   ]
  },
  {
   "cell_type": "code",
   "execution_count": 5,
   "metadata": {},
   "outputs": [
    {
     "data": {
      "text/plain": [
       "id                   0.0\n",
       "Age                  0.0\n",
       "Female               0.0\n",
       "Educ                 0.0\n",
       "Unmarried            0.0\n",
       "Income               0.0\n",
       "Insured              0.0\n",
       "Weight               0.0\n",
       "Height               0.0\n",
       "BMI                  0.0\n",
       "Obese                0.0\n",
       "Waist                0.0\n",
       "SBP                  0.0\n",
       "DBP                  0.0\n",
       "HDL                  0.0\n",
       "LDL                  0.0\n",
       "Total.Chol           0.0\n",
       "Dyslipidemia         0.0\n",
       "PVD                  0.0\n",
       "Activity             0.0\n",
       "PoorVision           0.0\n",
       "Smoker               0.0\n",
       "Hypertension         0.0\n",
       "Fam.Hypertension     0.0\n",
       "Diabetes             0.0\n",
       "Fam.Diabetes         0.0\n",
       "Stroke               0.0\n",
       "CVD                  0.0\n",
       "Fam.CVD              0.0\n",
       "CHF                  0.0\n",
       "Anemia               0.0\n",
       "CKD                  0.0\n",
       "Racegrpblack         0.0\n",
       "Racegrphispa         0.0\n",
       "Racegrpother         0.0\n",
       "Racegrpwhite         0.0\n",
       "CareSourceclinic     0.0\n",
       "CareSourceDrHMO      0.0\n",
       "CareSourcenoplace    0.0\n",
       "CareSourceother      0.0\n",
       "dtype: float64"
      ]
     },
     "execution_count": 5,
     "metadata": {},
     "output_type": "execute_result"
    }
   ],
   "source": [
    "# check missing value proportion of each col\n",
    "df.isnull().mean()"
   ]
  },
  {
   "cell_type": "code",
   "execution_count": 6,
   "metadata": {},
   "outputs": [
    {
     "name": "stdout",
     "output_type": "stream",
     "text": [
      "Age:66\n",
      "Female:2\n",
      "Educ:2\n",
      "Unmarried:2\n",
      "Income:2\n",
      "Insured:2\n",
      "Weight:928\n",
      "Height:489\n",
      "BMI:1870\n",
      "Obese:2\n",
      "Waist:708\n",
      "SBP:127\n",
      "DBP:94\n",
      "HDL:102\n",
      "LDL:249\n",
      "Total.Chol:249\n",
      "Dyslipidemia:2\n",
      "PVD:2\n",
      "Activity:4\n",
      "PoorVision:2\n",
      "Smoker:2\n",
      "Hypertension:2\n",
      "Fam.Hypertension:2\n",
      "Diabetes:2\n",
      "Fam.Diabetes:2\n",
      "Stroke:2\n",
      "CVD:2\n",
      "Fam.CVD:2\n",
      "CHF:2\n",
      "Anemia:2\n",
      "Racegrpblack:2\n",
      "Racegrphispa:2\n",
      "Racegrpother:2\n",
      "Racegrpwhite:2\n",
      "CareSourceclinic:2\n",
      "CareSourceDrHMO:2\n",
      "CareSourcenoplace:2\n",
      "CareSourceother:2\n"
     ]
    }
   ],
   "source": [
    "# check each col's # of unique value to see which feature is not dummy variable\n",
    "for i in X_ori.columns:\n",
    "    print(i + ':' + str(len(X_ori[i].unique())))"
   ]
  },
  {
   "cell_type": "markdown",
   "metadata": {},
   "source": [
    "# Feature Selection"
   ]
  },
  {
   "cell_type": "markdown",
   "metadata": {},
   "source": [
    "# 1. Bayes Theory  \n",
    "Here we take two examples/features (insured and hypertension) to explain how bayes prob works for feature selection. \n",
    "\n",
    "What we are looking for is the <b>probability of an insured person (or a persion with hypertension) has CKD </b>, so that we can infer the <b>relation between insurance (or hypertention) and CKD</b>.\n",
    "<img src=\"CKD_bayes.png\" width=\"70%\">\n",
    "As for the first example, we can calculate the Bayes prob by:  \n",
    "$$P = \\frac{ number\\ of\\ people\\ with\\ CKD }{ number\\ of\\ people\\ without\\ CKD  }* \\frac{ 96\\% }{ 79\\% } = 8.3 \\%$$\n",
    "And for the second example, the Bayes prob is:  \n",
    "$$P = \\frac{ number\\ of\\ people\\ with\\ CKD }{ number\\ of\\ people\\ without\\ CKD  }* \\frac{ 79\\% }{ 34\\% } = 15.97 \\%$$\n",
    "\n",
    "So we can see that people with hypertension have more chance of getting CKD compared to insured people.Therefore we can conclude that hypertension can be considered as a more indictive feature."
   ]
  },
  {
   "cell_type": "markdown",
   "metadata": {},
   "source": [
    "# Step  \n",
    "1. Transform non-dummy features (with continous variables or multi-classes) to dummy features (with binary classes) in order to caculate the Bayes Stats\n",
    "2. Calculate likelihood ratio and Bayes Stats  \n",
    "3. Select the top 15 features based on Bayes Stats"
   ]
  },
  {
   "cell_type": "code",
   "execution_count": 7,
   "metadata": {},
   "outputs": [
    {
     "data": {
      "text/plain": [
       "['Age',\n",
       " 'Weight',\n",
       " 'Height',\n",
       " 'BMI',\n",
       " 'Waist',\n",
       " 'SBP',\n",
       " 'DBP',\n",
       " 'HDL',\n",
       " 'LDL',\n",
       " 'Total.Chol',\n",
       " 'Activity']"
      ]
     },
     "execution_count": 7,
     "metadata": {},
     "output_type": "execute_result"
    }
   ],
   "source": [
    "# Transform variables to binary classes in order to caculate the Bayesion Stats\n",
    "non_dummy_feat = []\n",
    "for i in X_ori.columns:\n",
    "    if (len(X_ori[i].unique())>2):\n",
    "        non_dummy_feat.append(i)\n",
    "non_dummy_feat"
   ]
  },
  {
   "cell_type": "code",
   "execution_count": 8,
   "metadata": {},
   "outputs": [],
   "source": [
    "# encode 'Activity'\n",
    "df['new_Activity'] = df['Activity'].apply(lambda val:1 if val>2 else 0)\n",
    "non_dummy_feat.remove('Activity')"
   ]
  },
  {
   "cell_type": "code",
   "execution_count": 9,
   "metadata": {},
   "outputs": [
    {
     "data": {
      "text/html": [
       "<div>\n",
       "<style scoped>\n",
       "    .dataframe tbody tr th:only-of-type {\n",
       "        vertical-align: middle;\n",
       "    }\n",
       "\n",
       "    .dataframe tbody tr th {\n",
       "        vertical-align: top;\n",
       "    }\n",
       "\n",
       "    .dataframe thead th {\n",
       "        text-align: right;\n",
       "    }\n",
       "</style>\n",
       "<table border=\"1\" class=\"dataframe\">\n",
       "  <thead>\n",
       "    <tr style=\"text-align: right;\">\n",
       "      <th></th>\n",
       "      <th>Age</th>\n",
       "      <th>Female</th>\n",
       "      <th>Educ</th>\n",
       "      <th>Unmarried</th>\n",
       "      <th>Income</th>\n",
       "      <th>Insured</th>\n",
       "      <th>Weight</th>\n",
       "      <th>Height</th>\n",
       "      <th>BMI</th>\n",
       "      <th>Obese</th>\n",
       "      <th>...</th>\n",
       "      <th>new_Age</th>\n",
       "      <th>new_Weight</th>\n",
       "      <th>new_Height</th>\n",
       "      <th>new_BMI</th>\n",
       "      <th>new_Waist</th>\n",
       "      <th>new_SBP</th>\n",
       "      <th>new_DBP</th>\n",
       "      <th>new_HDL</th>\n",
       "      <th>new_LDL</th>\n",
       "      <th>new_Total.Chol</th>\n",
       "    </tr>\n",
       "  </thead>\n",
       "  <tbody>\n",
       "    <tr>\n",
       "      <th>0</th>\n",
       "      <td>65</td>\n",
       "      <td>1</td>\n",
       "      <td>0</td>\n",
       "      <td>0</td>\n",
       "      <td>1</td>\n",
       "      <td>1</td>\n",
       "      <td>56.0</td>\n",
       "      <td>162.1</td>\n",
       "      <td>21.31</td>\n",
       "      <td>0</td>\n",
       "      <td>...</td>\n",
       "      <td>1</td>\n",
       "      <td>0</td>\n",
       "      <td>0</td>\n",
       "      <td>0</td>\n",
       "      <td>0</td>\n",
       "      <td>1</td>\n",
       "      <td>0</td>\n",
       "      <td>0</td>\n",
       "      <td>1</td>\n",
       "      <td>1</td>\n",
       "    </tr>\n",
       "    <tr>\n",
       "      <th>1</th>\n",
       "      <td>66</td>\n",
       "      <td>1</td>\n",
       "      <td>0</td>\n",
       "      <td>1</td>\n",
       "      <td>0</td>\n",
       "      <td>1</td>\n",
       "      <td>83.9</td>\n",
       "      <td>162.5</td>\n",
       "      <td>31.77</td>\n",
       "      <td>1</td>\n",
       "      <td>...</td>\n",
       "      <td>1</td>\n",
       "      <td>1</td>\n",
       "      <td>0</td>\n",
       "      <td>1</td>\n",
       "      <td>1</td>\n",
       "      <td>0</td>\n",
       "      <td>0</td>\n",
       "      <td>0</td>\n",
       "      <td>1</td>\n",
       "      <td>1</td>\n",
       "    </tr>\n",
       "    <tr>\n",
       "      <th>2</th>\n",
       "      <td>54</td>\n",
       "      <td>1</td>\n",
       "      <td>1</td>\n",
       "      <td>0</td>\n",
       "      <td>0</td>\n",
       "      <td>1</td>\n",
       "      <td>69.4</td>\n",
       "      <td>160.5</td>\n",
       "      <td>26.94</td>\n",
       "      <td>0</td>\n",
       "      <td>...</td>\n",
       "      <td>1</td>\n",
       "      <td>0</td>\n",
       "      <td>0</td>\n",
       "      <td>0</td>\n",
       "      <td>0</td>\n",
       "      <td>0</td>\n",
       "      <td>0</td>\n",
       "      <td>1</td>\n",
       "      <td>1</td>\n",
       "      <td>1</td>\n",
       "    </tr>\n",
       "    <tr>\n",
       "      <th>3</th>\n",
       "      <td>26</td>\n",
       "      <td>0</td>\n",
       "      <td>1</td>\n",
       "      <td>0</td>\n",
       "      <td>0</td>\n",
       "      <td>1</td>\n",
       "      <td>119.3</td>\n",
       "      <td>193.2</td>\n",
       "      <td>31.96</td>\n",
       "      <td>1</td>\n",
       "      <td>...</td>\n",
       "      <td>0</td>\n",
       "      <td>1</td>\n",
       "      <td>1</td>\n",
       "      <td>1</td>\n",
       "      <td>1</td>\n",
       "      <td>1</td>\n",
       "      <td>0</td>\n",
       "      <td>0</td>\n",
       "      <td>1</td>\n",
       "      <td>1</td>\n",
       "    </tr>\n",
       "    <tr>\n",
       "      <th>4</th>\n",
       "      <td>66</td>\n",
       "      <td>0</td>\n",
       "      <td>1</td>\n",
       "      <td>0</td>\n",
       "      <td>0</td>\n",
       "      <td>0</td>\n",
       "      <td>85.1</td>\n",
       "      <td>172.1</td>\n",
       "      <td>28.73</td>\n",
       "      <td>0</td>\n",
       "      <td>...</td>\n",
       "      <td>1</td>\n",
       "      <td>1</td>\n",
       "      <td>1</td>\n",
       "      <td>1</td>\n",
       "      <td>1</td>\n",
       "      <td>1</td>\n",
       "      <td>1</td>\n",
       "      <td>0</td>\n",
       "      <td>0</td>\n",
       "      <td>0</td>\n",
       "    </tr>\n",
       "  </tbody>\n",
       "</table>\n",
       "<p>5 rows × 50 columns</p>\n",
       "</div>"
      ],
      "text/plain": [
       "   Age  Female  Educ  Unmarried  Income  Insured  Weight  Height    BMI  \\\n",
       "0   65       1     0          0       1        1    56.0   162.1  21.31   \n",
       "1   66       1     0          1       0        1    83.9   162.5  31.77   \n",
       "2   54       1     1          0       0        1    69.4   160.5  26.94   \n",
       "3   26       0     1          0       0        1   119.3   193.2  31.96   \n",
       "4   66       0     1          0       0        0    85.1   172.1  28.73   \n",
       "\n",
       "   Obese  ...  new_Age  new_Weight  new_Height  new_BMI  new_Waist  new_SBP  \\\n",
       "0      0  ...        1           0           0        0          0        1   \n",
       "1      1  ...        1           1           0        1          1        0   \n",
       "2      0  ...        1           0           0        0          0        0   \n",
       "3      1  ...        0           1           1        1          1        1   \n",
       "4      0  ...        1           1           1        1          1        1   \n",
       "\n",
       "   new_DBP  new_HDL  new_LDL  new_Total.Chol  \n",
       "0        0        0        1               1  \n",
       "1        0        0        1               1  \n",
       "2        0        1        1               1  \n",
       "3        0        0        1               1  \n",
       "4        1        0        0               0  \n",
       "\n",
       "[5 rows x 50 columns]"
      ]
     },
     "execution_count": 9,
     "metadata": {},
     "output_type": "execute_result"
    }
   ],
   "source": [
    "for i in non_dummy_feat:\n",
    "    df['new_' + i] = pd.qcut(df[i],q=2,labels=[0,1])\n",
    "df = df.drop(\"id\",axis = 1)\n",
    "df.head()"
   ]
  },
  {
   "cell_type": "code",
   "execution_count": 10,
   "metadata": {},
   "outputs": [
    {
     "data": {
      "text/plain": [
       "Age                     int64\n",
       "Female                  int64\n",
       "Educ                    int64\n",
       "Unmarried               int64\n",
       "Income                  int64\n",
       "Insured                 int64\n",
       "Weight                float64\n",
       "Height                float64\n",
       "BMI                   float64\n",
       "Obese                   int64\n",
       "Waist                 float64\n",
       "SBP                     int64\n",
       "DBP                     int64\n",
       "HDL                     int64\n",
       "LDL                     int64\n",
       "Total.Chol              int64\n",
       "Dyslipidemia            int64\n",
       "PVD                     int64\n",
       "Activity                int64\n",
       "PoorVision              int64\n",
       "Smoker                  int64\n",
       "Hypertension            int64\n",
       "Fam.Hypertension        int64\n",
       "Diabetes                int64\n",
       "Fam.Diabetes            int64\n",
       "Stroke                  int64\n",
       "CVD                     int64\n",
       "Fam.CVD                 int64\n",
       "CHF                     int64\n",
       "Anemia                  int64\n",
       "CKD                     int64\n",
       "Racegrpblack            int64\n",
       "Racegrphispa            int64\n",
       "Racegrpother            int64\n",
       "Racegrpwhite            int64\n",
       "CareSourceclinic        int64\n",
       "CareSourceDrHMO         int64\n",
       "CareSourcenoplace       int64\n",
       "CareSourceother         int64\n",
       "new_Activity            int64\n",
       "new_Age              category\n",
       "new_Weight           category\n",
       "new_Height           category\n",
       "new_BMI              category\n",
       "new_Waist            category\n",
       "new_SBP              category\n",
       "new_DBP              category\n",
       "new_HDL              category\n",
       "new_LDL              category\n",
       "new_Total.Chol       category\n",
       "dtype: object"
      ]
     },
     "execution_count": 10,
     "metadata": {},
     "output_type": "execute_result"
    }
   ],
   "source": [
    "df.dtypes"
   ]
  },
  {
   "cell_type": "code",
   "execution_count": 11,
   "metadata": {},
   "outputs": [
    {
     "data": {
      "text/plain": [
       "Age                  int32\n",
       "Female               int32\n",
       "Educ                 int32\n",
       "Unmarried            int32\n",
       "Income               int32\n",
       "Insured              int32\n",
       "Weight               int32\n",
       "Height               int32\n",
       "BMI                  int32\n",
       "Obese                int32\n",
       "Waist                int32\n",
       "SBP                  int32\n",
       "DBP                  int32\n",
       "HDL                  int32\n",
       "LDL                  int32\n",
       "Total.Chol           int32\n",
       "Dyslipidemia         int32\n",
       "PVD                  int32\n",
       "Activity             int32\n",
       "PoorVision           int32\n",
       "Smoker               int32\n",
       "Hypertension         int32\n",
       "Fam.Hypertension     int32\n",
       "Diabetes             int32\n",
       "Fam.Diabetes         int32\n",
       "Stroke               int32\n",
       "CVD                  int32\n",
       "Fam.CVD              int32\n",
       "CHF                  int32\n",
       "Anemia               int32\n",
       "CKD                  int32\n",
       "Racegrpblack         int32\n",
       "Racegrphispa         int32\n",
       "Racegrpother         int32\n",
       "Racegrpwhite         int32\n",
       "CareSourceclinic     int32\n",
       "CareSourceDrHMO      int32\n",
       "CareSourcenoplace    int32\n",
       "CareSourceother      int32\n",
       "new_Activity         int32\n",
       "new_Age              int32\n",
       "new_Weight           int32\n",
       "new_Height           int32\n",
       "new_BMI              int32\n",
       "new_Waist            int32\n",
       "new_SBP              int32\n",
       "new_DBP              int32\n",
       "new_HDL              int32\n",
       "new_LDL              int32\n",
       "new_Total.Chol       int32\n",
       "dtype: object"
      ]
     },
     "execution_count": 11,
     "metadata": {},
     "output_type": "execute_result"
    }
   ],
   "source": [
    "# new features are categorical variables, convert them to int\n",
    "df=df.astype('int')\n",
    "df.dtypes"
   ]
  },
  {
   "cell_type": "code",
   "execution_count": 12,
   "metadata": {},
   "outputs": [],
   "source": [
    "# filter CKD==1 and drop CKD Col\n",
    "ckd=df[df.CKD==1].drop(non_dummy_feat+['Activity']+['CKD'],axis=1)\n",
    "prob_ckd=[]\n",
    "for col in ckd.columns:\n",
    "    prob_ckd.append(ckd[col].mean())\n",
    "    df_prob_ckd=pd.DataFrame(zip(ckd.columns,prob_ckd))\n",
    "\n",
    "df_prob_ckd.columns=['features','likelihood_ckd']"
   ]
  },
  {
   "cell_type": "code",
   "execution_count": 13,
   "metadata": {},
   "outputs": [
    {
     "data": {
      "text/html": [
       "<div>\n",
       "<style scoped>\n",
       "    .dataframe tbody tr th:only-of-type {\n",
       "        vertical-align: middle;\n",
       "    }\n",
       "\n",
       "    .dataframe tbody tr th {\n",
       "        vertical-align: top;\n",
       "    }\n",
       "\n",
       "    .dataframe thead th {\n",
       "        text-align: right;\n",
       "    }\n",
       "</style>\n",
       "<table border=\"1\" class=\"dataframe\">\n",
       "  <thead>\n",
       "    <tr style=\"text-align: right;\">\n",
       "      <th></th>\n",
       "      <th>features</th>\n",
       "      <th>likelihood_ckd</th>\n",
       "    </tr>\n",
       "  </thead>\n",
       "  <tbody>\n",
       "    <tr>\n",
       "      <th>0</th>\n",
       "      <td>Female</td>\n",
       "      <td>0.537594</td>\n",
       "    </tr>\n",
       "    <tr>\n",
       "      <th>1</th>\n",
       "      <td>Educ</td>\n",
       "      <td>0.349624</td>\n",
       "    </tr>\n",
       "    <tr>\n",
       "      <th>2</th>\n",
       "      <td>Unmarried</td>\n",
       "      <td>0.439850</td>\n",
       "    </tr>\n",
       "    <tr>\n",
       "      <th>3</th>\n",
       "      <td>Income</td>\n",
       "      <td>0.281955</td>\n",
       "    </tr>\n",
       "    <tr>\n",
       "      <th>4</th>\n",
       "      <td>Insured</td>\n",
       "      <td>0.966165</td>\n",
       "    </tr>\n",
       "    <tr>\n",
       "      <th>5</th>\n",
       "      <td>Obese</td>\n",
       "      <td>0.349624</td>\n",
       "    </tr>\n",
       "    <tr>\n",
       "      <th>6</th>\n",
       "      <td>Dyslipidemia</td>\n",
       "      <td>0.105263</td>\n",
       "    </tr>\n",
       "    <tr>\n",
       "      <th>7</th>\n",
       "      <td>PVD</td>\n",
       "      <td>0.142857</td>\n",
       "    </tr>\n",
       "    <tr>\n",
       "      <th>8</th>\n",
       "      <td>PoorVision</td>\n",
       "      <td>0.139098</td>\n",
       "    </tr>\n",
       "    <tr>\n",
       "      <th>9</th>\n",
       "      <td>Smoker</td>\n",
       "      <td>0.398496</td>\n",
       "    </tr>\n",
       "    <tr>\n",
       "      <th>10</th>\n",
       "      <td>Hypertension</td>\n",
       "      <td>0.793233</td>\n",
       "    </tr>\n",
       "    <tr>\n",
       "      <th>11</th>\n",
       "      <td>Fam.Hypertension</td>\n",
       "      <td>0.184211</td>\n",
       "    </tr>\n",
       "    <tr>\n",
       "      <th>12</th>\n",
       "      <td>Diabetes</td>\n",
       "      <td>0.285714</td>\n",
       "    </tr>\n",
       "    <tr>\n",
       "      <th>13</th>\n",
       "      <td>Fam.Diabetes</td>\n",
       "      <td>0.345865</td>\n",
       "    </tr>\n",
       "    <tr>\n",
       "      <th>14</th>\n",
       "      <td>Stroke</td>\n",
       "      <td>0.112782</td>\n",
       "    </tr>\n",
       "    <tr>\n",
       "      <th>15</th>\n",
       "      <td>CVD</td>\n",
       "      <td>0.229323</td>\n",
       "    </tr>\n",
       "    <tr>\n",
       "      <th>16</th>\n",
       "      <td>Fam.CVD</td>\n",
       "      <td>0.263158</td>\n",
       "    </tr>\n",
       "    <tr>\n",
       "      <th>17</th>\n",
       "      <td>CHF</td>\n",
       "      <td>0.086466</td>\n",
       "    </tr>\n",
       "    <tr>\n",
       "      <th>18</th>\n",
       "      <td>Anemia</td>\n",
       "      <td>0.030075</td>\n",
       "    </tr>\n",
       "    <tr>\n",
       "      <th>19</th>\n",
       "      <td>Racegrpblack</td>\n",
       "      <td>0.165414</td>\n",
       "    </tr>\n",
       "    <tr>\n",
       "      <th>20</th>\n",
       "      <td>Racegrphispa</td>\n",
       "      <td>0.112782</td>\n",
       "    </tr>\n",
       "    <tr>\n",
       "      <th>21</th>\n",
       "      <td>Racegrpother</td>\n",
       "      <td>0.015038</td>\n",
       "    </tr>\n",
       "    <tr>\n",
       "      <th>22</th>\n",
       "      <td>Racegrpwhite</td>\n",
       "      <td>0.706767</td>\n",
       "    </tr>\n",
       "    <tr>\n",
       "      <th>23</th>\n",
       "      <td>CareSourceclinic</td>\n",
       "      <td>0.203008</td>\n",
       "    </tr>\n",
       "    <tr>\n",
       "      <th>24</th>\n",
       "      <td>CareSourceDrHMO</td>\n",
       "      <td>0.710526</td>\n",
       "    </tr>\n",
       "    <tr>\n",
       "      <th>25</th>\n",
       "      <td>CareSourcenoplace</td>\n",
       "      <td>0.033835</td>\n",
       "    </tr>\n",
       "    <tr>\n",
       "      <th>26</th>\n",
       "      <td>CareSourceother</td>\n",
       "      <td>0.052632</td>\n",
       "    </tr>\n",
       "    <tr>\n",
       "      <th>27</th>\n",
       "      <td>new_Activity</td>\n",
       "      <td>0.086466</td>\n",
       "    </tr>\n",
       "    <tr>\n",
       "      <th>28</th>\n",
       "      <td>new_Age</td>\n",
       "      <td>0.951128</td>\n",
       "    </tr>\n",
       "    <tr>\n",
       "      <th>29</th>\n",
       "      <td>new_Weight</td>\n",
       "      <td>0.522556</td>\n",
       "    </tr>\n",
       "    <tr>\n",
       "      <th>30</th>\n",
       "      <td>new_Height</td>\n",
       "      <td>0.458647</td>\n",
       "    </tr>\n",
       "    <tr>\n",
       "      <th>31</th>\n",
       "      <td>new_BMI</td>\n",
       "      <td>0.545113</td>\n",
       "    </tr>\n",
       "    <tr>\n",
       "      <th>32</th>\n",
       "      <td>new_Waist</td>\n",
       "      <td>0.654135</td>\n",
       "    </tr>\n",
       "    <tr>\n",
       "      <th>33</th>\n",
       "      <td>new_SBP</td>\n",
       "      <td>0.770677</td>\n",
       "    </tr>\n",
       "    <tr>\n",
       "      <th>34</th>\n",
       "      <td>new_DBP</td>\n",
       "      <td>0.409774</td>\n",
       "    </tr>\n",
       "    <tr>\n",
       "      <th>35</th>\n",
       "      <td>new_HDL</td>\n",
       "      <td>0.390977</td>\n",
       "    </tr>\n",
       "    <tr>\n",
       "      <th>36</th>\n",
       "      <td>new_LDL</td>\n",
       "      <td>0.545113</td>\n",
       "    </tr>\n",
       "    <tr>\n",
       "      <th>37</th>\n",
       "      <td>new_Total.Chol</td>\n",
       "      <td>0.518797</td>\n",
       "    </tr>\n",
       "  </tbody>\n",
       "</table>\n",
       "</div>"
      ],
      "text/plain": [
       "             features  likelihood_ckd\n",
       "0              Female        0.537594\n",
       "1                Educ        0.349624\n",
       "2           Unmarried        0.439850\n",
       "3              Income        0.281955\n",
       "4             Insured        0.966165\n",
       "5               Obese        0.349624\n",
       "6        Dyslipidemia        0.105263\n",
       "7                 PVD        0.142857\n",
       "8          PoorVision        0.139098\n",
       "9              Smoker        0.398496\n",
       "10       Hypertension        0.793233\n",
       "11   Fam.Hypertension        0.184211\n",
       "12           Diabetes        0.285714\n",
       "13       Fam.Diabetes        0.345865\n",
       "14             Stroke        0.112782\n",
       "15                CVD        0.229323\n",
       "16            Fam.CVD        0.263158\n",
       "17                CHF        0.086466\n",
       "18             Anemia        0.030075\n",
       "19       Racegrpblack        0.165414\n",
       "20       Racegrphispa        0.112782\n",
       "21       Racegrpother        0.015038\n",
       "22       Racegrpwhite        0.706767\n",
       "23   CareSourceclinic        0.203008\n",
       "24    CareSourceDrHMO        0.710526\n",
       "25  CareSourcenoplace        0.033835\n",
       "26    CareSourceother        0.052632\n",
       "27       new_Activity        0.086466\n",
       "28            new_Age        0.951128\n",
       "29         new_Weight        0.522556\n",
       "30         new_Height        0.458647\n",
       "31            new_BMI        0.545113\n",
       "32          new_Waist        0.654135\n",
       "33            new_SBP        0.770677\n",
       "34            new_DBP        0.409774\n",
       "35            new_HDL        0.390977\n",
       "36            new_LDL        0.545113\n",
       "37     new_Total.Chol        0.518797"
      ]
     },
     "execution_count": 13,
     "metadata": {},
     "output_type": "execute_result"
    }
   ],
   "source": [
    "df_prob_ckd"
   ]
  },
  {
   "cell_type": "code",
   "execution_count": 14,
   "metadata": {},
   "outputs": [],
   "source": [
    "ckd1=df[df.CKD==0].drop(non_dummy_feat+['Activity']+['CKD'],axis=1)\n",
    "prob_ckd1=[]\n",
    "for col in ckd1.columns:\n",
    "    prob_ckd1.append(ckd1[col].mean())\n",
    "    df_prob_ckd1=pd.DataFrame(zip(ckd1.columns,prob_ckd1))\n",
    "\n",
    "df_prob_ckd1.columns=['features','likelihood_ckd']"
   ]
  },
  {
   "cell_type": "code",
   "execution_count": 15,
   "metadata": {},
   "outputs": [
    {
     "data": {
      "text/html": [
       "<div>\n",
       "<style scoped>\n",
       "    .dataframe tbody tr th:only-of-type {\n",
       "        vertical-align: middle;\n",
       "    }\n",
       "\n",
       "    .dataframe tbody tr th {\n",
       "        vertical-align: top;\n",
       "    }\n",
       "\n",
       "    .dataframe thead th {\n",
       "        text-align: right;\n",
       "    }\n",
       "</style>\n",
       "<table border=\"1\" class=\"dataframe\">\n",
       "  <thead>\n",
       "    <tr style=\"text-align: right;\">\n",
       "      <th></th>\n",
       "      <th>features</th>\n",
       "      <th>likelihood_ckd</th>\n",
       "    </tr>\n",
       "  </thead>\n",
       "  <tbody>\n",
       "    <tr>\n",
       "      <th>0</th>\n",
       "      <td>Female</td>\n",
       "      <td>0.514987</td>\n",
       "    </tr>\n",
       "    <tr>\n",
       "      <th>1</th>\n",
       "      <td>Educ</td>\n",
       "      <td>0.480879</td>\n",
       "    </tr>\n",
       "    <tr>\n",
       "      <th>2</th>\n",
       "      <td>Unmarried</td>\n",
       "      <td>0.341602</td>\n",
       "    </tr>\n",
       "    <tr>\n",
       "      <th>3</th>\n",
       "      <td>Income</td>\n",
       "      <td>0.457623</td>\n",
       "    </tr>\n",
       "    <tr>\n",
       "      <th>4</th>\n",
       "      <td>Insured</td>\n",
       "      <td>0.799483</td>\n",
       "    </tr>\n",
       "    <tr>\n",
       "      <th>5</th>\n",
       "      <td>Obese</td>\n",
       "      <td>0.307235</td>\n",
       "    </tr>\n",
       "    <tr>\n",
       "      <th>6</th>\n",
       "      <td>Dyslipidemia</td>\n",
       "      <td>0.103618</td>\n",
       "    </tr>\n",
       "    <tr>\n",
       "      <th>7</th>\n",
       "      <td>PVD</td>\n",
       "      <td>0.026615</td>\n",
       "    </tr>\n",
       "    <tr>\n",
       "      <th>8</th>\n",
       "      <td>PoorVision</td>\n",
       "      <td>0.047804</td>\n",
       "    </tr>\n",
       "    <tr>\n",
       "      <th>9</th>\n",
       "      <td>Smoker</td>\n",
       "      <td>0.298966</td>\n",
       "    </tr>\n",
       "    <tr>\n",
       "      <th>10</th>\n",
       "      <td>Hypertension</td>\n",
       "      <td>0.349871</td>\n",
       "    </tr>\n",
       "    <tr>\n",
       "      <th>11</th>\n",
       "      <td>Fam.Hypertension</td>\n",
       "      <td>0.257881</td>\n",
       "    </tr>\n",
       "    <tr>\n",
       "      <th>12</th>\n",
       "      <td>Diabetes</td>\n",
       "      <td>0.091731</td>\n",
       "    </tr>\n",
       "    <tr>\n",
       "      <th>13</th>\n",
       "      <td>Fam.Diabetes</td>\n",
       "      <td>0.311111</td>\n",
       "    </tr>\n",
       "    <tr>\n",
       "      <th>14</th>\n",
       "      <td>Stroke</td>\n",
       "      <td>0.018346</td>\n",
       "    </tr>\n",
       "    <tr>\n",
       "      <th>15</th>\n",
       "      <td>CVD</td>\n",
       "      <td>0.044186</td>\n",
       "    </tr>\n",
       "    <tr>\n",
       "      <th>16</th>\n",
       "      <td>Fam.CVD</td>\n",
       "      <td>0.362274</td>\n",
       "    </tr>\n",
       "    <tr>\n",
       "      <th>17</th>\n",
       "      <td>CHF</td>\n",
       "      <td>0.017829</td>\n",
       "    </tr>\n",
       "    <tr>\n",
       "      <th>18</th>\n",
       "      <td>Anemia</td>\n",
       "      <td>0.018088</td>\n",
       "    </tr>\n",
       "    <tr>\n",
       "      <th>19</th>\n",
       "      <td>Racegrpblack</td>\n",
       "      <td>0.164599</td>\n",
       "    </tr>\n",
       "    <tr>\n",
       "      <th>20</th>\n",
       "      <td>Racegrphispa</td>\n",
       "      <td>0.284238</td>\n",
       "    </tr>\n",
       "    <tr>\n",
       "      <th>21</th>\n",
       "      <td>Racegrpother</td>\n",
       "      <td>0.031008</td>\n",
       "    </tr>\n",
       "    <tr>\n",
       "      <th>22</th>\n",
       "      <td>Racegrpwhite</td>\n",
       "      <td>0.520155</td>\n",
       "    </tr>\n",
       "    <tr>\n",
       "      <th>23</th>\n",
       "      <td>CareSourceclinic</td>\n",
       "      <td>0.209044</td>\n",
       "    </tr>\n",
       "    <tr>\n",
       "      <th>24</th>\n",
       "      <td>CareSourceDrHMO</td>\n",
       "      <td>0.586047</td>\n",
       "    </tr>\n",
       "    <tr>\n",
       "      <th>25</th>\n",
       "      <td>CareSourcenoplace</td>\n",
       "      <td>0.158398</td>\n",
       "    </tr>\n",
       "    <tr>\n",
       "      <th>26</th>\n",
       "      <td>CareSourceother</td>\n",
       "      <td>0.046253</td>\n",
       "    </tr>\n",
       "    <tr>\n",
       "      <th>27</th>\n",
       "      <td>new_Activity</td>\n",
       "      <td>0.226615</td>\n",
       "    </tr>\n",
       "    <tr>\n",
       "      <th>28</th>\n",
       "      <td>new_Age</td>\n",
       "      <td>0.450388</td>\n",
       "    </tr>\n",
       "    <tr>\n",
       "      <th>29</th>\n",
       "      <td>new_Weight</td>\n",
       "      <td>0.498191</td>\n",
       "    </tr>\n",
       "    <tr>\n",
       "      <th>30</th>\n",
       "      <td>new_Height</td>\n",
       "      <td>0.502842</td>\n",
       "    </tr>\n",
       "    <tr>\n",
       "      <th>31</th>\n",
       "      <td>new_BMI</td>\n",
       "      <td>0.496899</td>\n",
       "    </tr>\n",
       "    <tr>\n",
       "      <th>32</th>\n",
       "      <td>new_Waist</td>\n",
       "      <td>0.487339</td>\n",
       "    </tr>\n",
       "    <tr>\n",
       "      <th>33</th>\n",
       "      <td>new_SBP</td>\n",
       "      <td>0.469251</td>\n",
       "    </tr>\n",
       "    <tr>\n",
       "      <th>34</th>\n",
       "      <td>new_DBP</td>\n",
       "      <td>0.487855</td>\n",
       "    </tr>\n",
       "    <tr>\n",
       "      <th>35</th>\n",
       "      <td>new_HDL</td>\n",
       "      <td>0.490439</td>\n",
       "    </tr>\n",
       "    <tr>\n",
       "      <th>36</th>\n",
       "      <td>new_LDL</td>\n",
       "      <td>0.491214</td>\n",
       "    </tr>\n",
       "    <tr>\n",
       "      <th>37</th>\n",
       "      <td>new_Total.Chol</td>\n",
       "      <td>0.493540</td>\n",
       "    </tr>\n",
       "  </tbody>\n",
       "</table>\n",
       "</div>"
      ],
      "text/plain": [
       "             features  likelihood_ckd\n",
       "0              Female        0.514987\n",
       "1                Educ        0.480879\n",
       "2           Unmarried        0.341602\n",
       "3              Income        0.457623\n",
       "4             Insured        0.799483\n",
       "5               Obese        0.307235\n",
       "6        Dyslipidemia        0.103618\n",
       "7                 PVD        0.026615\n",
       "8          PoorVision        0.047804\n",
       "9              Smoker        0.298966\n",
       "10       Hypertension        0.349871\n",
       "11   Fam.Hypertension        0.257881\n",
       "12           Diabetes        0.091731\n",
       "13       Fam.Diabetes        0.311111\n",
       "14             Stroke        0.018346\n",
       "15                CVD        0.044186\n",
       "16            Fam.CVD        0.362274\n",
       "17                CHF        0.017829\n",
       "18             Anemia        0.018088\n",
       "19       Racegrpblack        0.164599\n",
       "20       Racegrphispa        0.284238\n",
       "21       Racegrpother        0.031008\n",
       "22       Racegrpwhite        0.520155\n",
       "23   CareSourceclinic        0.209044\n",
       "24    CareSourceDrHMO        0.586047\n",
       "25  CareSourcenoplace        0.158398\n",
       "26    CareSourceother        0.046253\n",
       "27       new_Activity        0.226615\n",
       "28            new_Age        0.450388\n",
       "29         new_Weight        0.498191\n",
       "30         new_Height        0.502842\n",
       "31            new_BMI        0.496899\n",
       "32          new_Waist        0.487339\n",
       "33            new_SBP        0.469251\n",
       "34            new_DBP        0.487855\n",
       "35            new_HDL        0.490439\n",
       "36            new_LDL        0.491214\n",
       "37     new_Total.Chol        0.493540"
      ]
     },
     "execution_count": 15,
     "metadata": {},
     "output_type": "execute_result"
    }
   ],
   "source": [
    "df_prob_ckd1"
   ]
  },
  {
   "cell_type": "code",
   "execution_count": 16,
   "metadata": {},
   "outputs": [],
   "source": [
    "df_prob=pd.merge(left=df_prob_ckd,right=df_prob_ckd1,on='features')\n"
   ]
  },
  {
   "cell_type": "code",
   "execution_count": 17,
   "metadata": {},
   "outputs": [
    {
     "data": {
      "text/html": [
       "<div>\n",
       "<style scoped>\n",
       "    .dataframe tbody tr th:only-of-type {\n",
       "        vertical-align: middle;\n",
       "    }\n",
       "\n",
       "    .dataframe tbody tr th {\n",
       "        vertical-align: top;\n",
       "    }\n",
       "\n",
       "    .dataframe thead th {\n",
       "        text-align: right;\n",
       "    }\n",
       "</style>\n",
       "<table border=\"1\" class=\"dataframe\">\n",
       "  <thead>\n",
       "    <tr style=\"text-align: right;\">\n",
       "      <th></th>\n",
       "      <th>features</th>\n",
       "      <th>likelihood_combine</th>\n",
       "    </tr>\n",
       "  </thead>\n",
       "  <tbody>\n",
       "    <tr>\n",
       "      <th>14</th>\n",
       "      <td>Stroke</td>\n",
       "      <td>0.422535</td>\n",
       "    </tr>\n",
       "    <tr>\n",
       "      <th>7</th>\n",
       "      <td>PVD</td>\n",
       "      <td>0.368932</td>\n",
       "    </tr>\n",
       "    <tr>\n",
       "      <th>15</th>\n",
       "      <td>CVD</td>\n",
       "      <td>0.356725</td>\n",
       "    </tr>\n",
       "    <tr>\n",
       "      <th>17</th>\n",
       "      <td>CHF</td>\n",
       "      <td>0.333333</td>\n",
       "    </tr>\n",
       "    <tr>\n",
       "      <th>12</th>\n",
       "      <td>Diabetes</td>\n",
       "      <td>0.214085</td>\n",
       "    </tr>\n",
       "    <tr>\n",
       "      <th>8</th>\n",
       "      <td>PoorVision</td>\n",
       "      <td>0.200000</td>\n",
       "    </tr>\n",
       "    <tr>\n",
       "      <th>10</th>\n",
       "      <td>Hypertension</td>\n",
       "      <td>0.155835</td>\n",
       "    </tr>\n",
       "    <tr>\n",
       "      <th>28</th>\n",
       "      <td>new_Age</td>\n",
       "      <td>0.145152</td>\n",
       "    </tr>\n",
       "    <tr>\n",
       "      <th>18</th>\n",
       "      <td>Anemia</td>\n",
       "      <td>0.114286</td>\n",
       "    </tr>\n",
       "    <tr>\n",
       "      <th>33</th>\n",
       "      <td>new_SBP</td>\n",
       "      <td>0.112885</td>\n",
       "    </tr>\n",
       "    <tr>\n",
       "      <th>22</th>\n",
       "      <td>Racegrpwhite</td>\n",
       "      <td>0.093393</td>\n",
       "    </tr>\n",
       "    <tr>\n",
       "      <th>32</th>\n",
       "      <td>new_Waist</td>\n",
       "      <td>0.092259</td>\n",
       "    </tr>\n",
       "    <tr>\n",
       "      <th>9</th>\n",
       "      <td>Smoker</td>\n",
       "      <td>0.091616</td>\n",
       "    </tr>\n",
       "    <tr>\n",
       "      <th>2</th>\n",
       "      <td>Unmarried</td>\n",
       "      <td>0.088502</td>\n",
       "    </tr>\n",
       "    <tr>\n",
       "      <th>24</th>\n",
       "      <td>CareSourceDrHMO</td>\n",
       "      <td>0.083333</td>\n",
       "    </tr>\n",
       "  </tbody>\n",
       "</table>\n",
       "</div>"
      ],
      "text/plain": [
       "           features  likelihood_combine\n",
       "14           Stroke            0.422535\n",
       "7               PVD            0.368932\n",
       "15              CVD            0.356725\n",
       "17              CHF            0.333333\n",
       "12         Diabetes            0.214085\n",
       "8        PoorVision            0.200000\n",
       "10     Hypertension            0.155835\n",
       "28          new_Age            0.145152\n",
       "18           Anemia            0.114286\n",
       "33          new_SBP            0.112885\n",
       "22     Racegrpwhite            0.093393\n",
       "32        new_Waist            0.092259\n",
       "9            Smoker            0.091616\n",
       "2         Unmarried            0.088502\n",
       "24  CareSourceDrHMO            0.083333"
      ]
     },
     "execution_count": 17,
     "metadata": {},
     "output_type": "execute_result"
    }
   ],
   "source": [
    "df_prob['likelihood_combine']=df_prob['likelihood_ckd_x']/df_prob['likelihood_ckd_y']*rate\n",
    "df_prob.sort_values('likelihood_combine',ascending=False)[0:15][['features','likelihood_combine']]"
   ]
  },
  {
   "cell_type": "code",
   "execution_count": 18,
   "metadata": {},
   "outputs": [
    {
     "name": "stdout",
     "output_type": "stream",
     "text": [
      "new_Age\n",
      "new_SBP\n",
      "new_Waist\n"
     ]
    }
   ],
   "source": [
    "# get feature names for modeling, they are in Dec order\n",
    "comb_prob_col=list(df_prob.sort_values('likelihood_combine',ascending=False)[0:15]['features'])\n",
    "for index,i in enumerate(comb_prob_col):\n",
    "    if i.split('_')[0] == 'new':\n",
    "        print(i)\n",
    "        comb_prob_col[index] = i.split('_')[1]"
   ]
  },
  {
   "cell_type": "markdown",
   "metadata": {},
   "source": [
    "Here are the features selected by Bayes Stats"
   ]
  },
  {
   "cell_type": "code",
   "execution_count": 19,
   "metadata": {},
   "outputs": [
    {
     "data": {
      "text/plain": [
       "['Stroke',\n",
       " 'PVD',\n",
       " 'CVD',\n",
       " 'CHF',\n",
       " 'Diabetes',\n",
       " 'PoorVision',\n",
       " 'Hypertension',\n",
       " 'Age',\n",
       " 'Anemia',\n",
       " 'SBP',\n",
       " 'Racegrpwhite',\n",
       " 'Waist',\n",
       " 'Smoker',\n",
       " 'Unmarried',\n",
       " 'CareSourceDrHMO']"
      ]
     },
     "execution_count": 19,
     "metadata": {},
     "output_type": "execute_result"
    }
   ],
   "source": [
    "comb_prob_col"
   ]
  },
  {
   "cell_type": "markdown",
   "metadata": {},
   "source": [
    "# 2. Random Forest\n",
    "\n",
    "Random Forest is a very interpretable model which can derive the importance of each feature on the tree decision. In other words, it is easy to compute how much each feature is contributing to the decision."
   ]
  },
  {
   "cell_type": "markdown",
   "metadata": {},
   "source": [
    "# Step:\n",
    "\n",
    "1. Preprocess the input data  \n",
    "a. Make all continuous variables normally distributed (IMPORTANT for modelling!)  \n",
    "b. Feature Scaling (<b>Standarlization</b> or Normalization) (Note: It is a good practice to fit the scaler on the training data and then use it to transform the testing data. This would avoid any data leakage during the model testing process. Also, the scaling of target values is generally not required.) Also, you can always start by fitting your model to raw, normalized and standardized data and compare the performance for best results\n",
    "2. Build the Random Forest Model and calculate the feature importance"
   ]
  },
  {
   "cell_type": "markdown",
   "metadata": {},
   "source": [
    "Preprocessing"
   ]
  },
  {
   "cell_type": "code",
   "execution_count": 20,
   "metadata": {},
   "outputs": [
    {
     "name": "stderr",
     "output_type": "stream",
     "text": [
      "Using TensorFlow backend.\n"
     ]
    }
   ],
   "source": [
    "from imblearn.over_sampling import SMOTE, ADASYN\n",
    "import seaborn as sns\n",
    "import numpy as np\n",
    "import seaborn as sns\n",
    "import matplotlib.pyplot as plt\n",
    "import pandas as pd \n",
    "from imblearn.combine import SMOTEENN\n",
    "from matplotlib import rcParams\n",
    "from sklearn.tree import DecisionTreeClassifier\n",
    "from sklearn.neural_network import MLPClassifier\n",
    "from sklearn.ensemble import AdaBoostClassifier\n",
    "from sklearn.ensemble import BaggingClassifier\n",
    "from sklearn.ensemble import GradientBoostingClassifier\n",
    "from sklearn.linear_model import LogisticRegression\n",
    "from sklearn.ensemble import RandomForestClassifier\n",
    "from sklearn.linear_model import LogisticRegression\n",
    "from sklearn.svm import SVC\n",
    "from sklearn.preprocessing import StandardScaler\n",
    "import pandas as pd"
   ]
  },
  {
   "cell_type": "code",
   "execution_count": 21,
   "metadata": {},
   "outputs": [
    {
     "name": "stdout",
     "output_type": "stream",
     "text": [
      "Age            330.931916\n",
      "Weight         368.011677\n",
      "Height         100.421709\n",
      "BMI             37.317719\n",
      "Waist          229.725963\n",
      "SBP            401.445712\n",
      "DBP            147.855385\n",
      "HDL            246.894918\n",
      "LDL           1787.429386\n",
      "Total.Chol    1765.527074\n",
      "dtype: float64\n"
     ]
    }
   ],
   "source": [
    "continous_features = ['Age', 'Weight','Height', 'BMI', 'Waist', 'SBP', 'DBP', 'HDL', 'LDL','Total.Chol']\n",
    "print(X_ori[continous_features].var())"
   ]
  },
  {
   "cell_type": "code",
   "execution_count": 22,
   "metadata": {},
   "outputs": [
    {
     "name": "stdout",
     "output_type": "stream",
     "text": [
      "Age           0.478916\n",
      "Weight        0.198258\n",
      "Height        0.016409\n",
      "BMI           0.109262\n",
      "Waist         0.093314\n",
      "SBP           0.099419\n",
      "DBP           0.118014\n",
      "HDL           0.271302\n",
      "LDL           0.347514\n",
      "Total.Chol    0.204248\n",
      "dtype: float64\n"
     ]
    }
   ],
   "source": [
    "from scipy.stats import norm, skew\n",
    "from scipy.special import boxcox1p\n",
    "X_norm=X_ori.copy()\n",
    "lam = 0.15\n",
    "for feat in continous_features:\n",
    "    X_norm[feat] = boxcox1p(X_norm[feat], lam)\n",
    "print(X_norm[continous_features].var())"
   ]
  },
  {
   "cell_type": "code",
   "execution_count": 23,
   "metadata": {},
   "outputs": [
    {
     "data": {
      "image/png": "[encoded data removed]",
      "text/plain": [
       "<Figure size 432x216 with 1 Axes>"
      ]
     },
     "metadata": {
      "needs_background": "light"
     },
     "output_type": "display_data"
    },
    {
     "data": {
      "image/png": "[encoded data removed]",
      "text/plain": [
       "<Figure size 432x216 with 1 Axes>"
      ]
     },
     "metadata": {
      "needs_background": "light"
     },
     "output_type": "display_data"
    },
    {
     "data": {
      "image/png": "[encoded data removed]",
      "text/plain": [
       "<Figure size 432x216 with 1 Axes>"
      ]
     },
     "metadata": {
      "needs_background": "light"
     },
     "output_type": "display_data"
    },
    {
     "data": {
      "image/png": "[encoded data removed]",
      "text/plain": [
       "<Figure size 432x216 with 1 Axes>"
      ]
     },
     "metadata": {
      "needs_background": "light"
     },
     "output_type": "display_data"
    },
    {
     "data": {
      "image/png": "[encoded data removed]",
      "text/plain": [
       "<Figure size 432x216 with 1 Axes>"
      ]
     },
     "metadata": {
      "needs_background": "light"
     },
     "output_type": "display_data"
    },
    {
     "data": {
      "image/png": "[encoded data removed]",
      "text/plain": [
       "<Figure size 432x216 with 1 Axes>"
      ]
     },
     "metadata": {
      "needs_background": "light"
     },
     "output_type": "display_data"
    },
    {
     "data": {
      "image/png": "[encoded data removed]",
      "text/plain": [
       "<Figure size 432x216 with 1 Axes>"
      ]
     },
     "metadata": {
      "needs_background": "light"
     },
     "output_type": "display_data"
    },
    {
     "data": {
      "image/png": "[encoded data removed]",
      "text/plain": [
       "<Figure size 432x216 with 1 Axes>"
      ]
     },
     "metadata": {
      "needs_background": "light"
     },
     "output_type": "display_data"
    },
    {
     "data": {
      "image/png": "[encoded data removed]",
      "text/plain": [
       "<Figure size 432x216 with 1 Axes>"
      ]
     },
     "metadata": {
      "needs_background": "light"
     },
     "output_type": "display_data"
    },
    {
     "data": {
      "image/png": "[encoded data removed]",
      "text/plain": [
       "<Figure size 432x216 with 1 Axes>"
      ]
     },
     "metadata": {
      "needs_background": "light"
     },
     "output_type": "display_data"
    }
   ],
   "source": [
    "for i in continous_features:\n",
    "    plt.figure(figsize=(6, 3))\n",
    "    plt.title(i)\n",
    "    ax = sns.distplot(X_norm[i]) "
   ]
  },
  {
   "cell_type": "code",
   "execution_count": 25,
   "metadata": {},
   "outputs": [],
   "source": [
    "from sklearn.model_selection import train_test_split\n",
    "Y=Y_ori.copy()\n",
    "X_train, X_test, y_train, y_test = train_test_split(X_norm, Y, stratify=Y,test_size=0.2, random_state=42)  "
   ]
  },
  {
   "cell_type": "markdown",
   "metadata": {},
   "source": [
    "Standardizatoion"
   ]
  },
  {
   "cell_type": "code",
   "execution_count": 26,
   "metadata": {},
   "outputs": [],
   "source": [
    "from sklearn.preprocessing import StandardScaler\n",
    "from sklearn.model_selection import train_test_split\n",
    "from sklearn.ensemble import RandomForestClassifier\n",
    "from sklearn import metrics\n",
    "X_norm_std_train=X_train.copy()\n",
    "X_norm_std_test=X_test.copy()\n",
    "normalizer = StandardScaler()\n",
    "normalizer.fit(X_train)\n",
    "X_norm_std_train_input = normalizer.transform(X_norm_std_train)\n",
    "X_norm_std_test_input = normalizer.transform(X_norm_std_test)"
   ]
  },
  {
   "cell_type": "markdown",
   "metadata": {},
   "source": [
    "Build Random Forest Model  \n",
    "\n",
    "Derive 1st model (Random Forest using all features)"
   ]
  },
  {
   "cell_type": "code",
   "execution_count": 27,
   "metadata": {},
   "outputs": [],
   "source": [
    "model = RandomForestClassifier()  \n",
    "model.fit(X_norm_std_train_input, y_train)  \n",
    "y_pred = model.predict(X_norm_std_test_input) "
   ]
  },
  {
   "cell_type": "markdown",
   "metadata": {},
   "source": [
    "Calculate feature importance"
   ]
  },
  {
   "cell_type": "code",
   "execution_count": 28,
   "metadata": {},
   "outputs": [],
   "source": [
    "from pandas import Series,DataFrame\n",
    "features = {}\n",
    "for index,i in enumerate(X_norm_std_train.columns.values.tolist()):\n",
    "    features[i] = model.feature_importances_.tolist()[index]\n",
    "feat_importance=pd.DataFrame(zip(X_norm_std_train.columns, model.feature_importances_))"
   ]
  },
  {
   "cell_type": "code",
   "execution_count": 29,
   "metadata": {},
   "outputs": [
    {
     "data": {
      "text/plain": [
       "['Age',\n",
       " 'SBP',\n",
       " 'Height',\n",
       " 'Weight',\n",
       " 'BMI',\n",
       " 'Total.Chol',\n",
       " 'DBP',\n",
       " 'HDL',\n",
       " 'Waist',\n",
       " 'LDL',\n",
       " 'Activity',\n",
       " 'CVD',\n",
       " 'Hypertension',\n",
       " 'PVD',\n",
       " 'Diabetes']"
      ]
     },
     "execution_count": 29,
     "metadata": {},
     "output_type": "execute_result"
    }
   ],
   "source": [
    "feat_importance.columns=['features','feature importance']\n",
    "feat_importance.sort_values('feature importance',ascending=False)\n",
    "select_features = list(feat_importance.sort_values('feature importance',ascending=False)[0:15]['features'])\n",
    "select_features"
   ]
  },
  {
   "cell_type": "markdown",
   "metadata": {},
   "source": [
    "Get common features for later modeling, they are in Dec order"
   ]
  },
  {
   "cell_type": "code",
   "execution_count": 30,
   "metadata": {},
   "outputs": [
    {
     "data": {
      "text/plain": [
       "['CVD', 'Age', 'Diabetes', 'Hypertension', 'SBP', 'PVD', 'Waist']"
      ]
     },
     "execution_count": 30,
     "metadata": {},
     "output_type": "execute_result"
    }
   ],
   "source": [
    "common_col=list(set(comb_prob_col) & set(select_features))\n",
    "common_col"
   ]
  },
  {
   "cell_type": "markdown",
   "metadata": {},
   "source": [
    "Derive 2nd model (Random Forest using RF selected features)"
   ]
  },
  {
   "cell_type": "code",
   "execution_count": 31,
   "metadata": {},
   "outputs": [],
   "source": [
    "# Random Forest using selected features\n",
    "model_rf = RandomForestClassifier()  \n",
    "normalizer = StandardScaler()\n",
    "normalizer.fit(X_norm_std_train[select_features])\n",
    "X_norm_std_train_select = normalizer.transform(X_norm_std_train[select_features])\n",
    "X_norm_std_test_select = normalizer.transform(X_norm_std_test[select_features])\n",
    "model_rf.fit(X_norm_std_train_select, y_train)  \n",
    "y_pred_rf = model_rf.predict(X_norm_std_test_select) "
   ]
  },
  {
   "cell_type": "markdown",
   "metadata": {},
   "source": [
    "# Feature Selection by Logistic Regression (p-value)"
   ]
  },
  {
   "cell_type": "code",
   "execution_count": 32,
   "metadata": {},
   "outputs": [
    {
     "name": "stdout",
     "output_type": "stream",
     "text": [
      "Optimization terminated successfully.\n",
      "         Current function value: 0.167729\n",
      "         Iterations 9\n"
     ]
    }
   ],
   "source": [
    "import statsmodels.api as sm\n",
    "x = sm.add_constant(X_norm_std_train_select)\n",
    "model = sm.Logit(y_train, x)\n",
    "result = model.fit()"
   ]
  },
  {
   "cell_type": "code",
   "execution_count": 33,
   "metadata": {},
   "outputs": [
    {
     "name": "stdout",
     "output_type": "stream",
     "text": [
      "                           Logit Regression Results                           \n",
      "==============================================================================\n",
      "Dep. Variable:                    CKD   No. Observations:                 3308\n",
      "Model:                          Logit   Df Residuals:                     3292\n",
      "Method:                           MLE   Df Model:                           15\n",
      "Date:                Thu, 27 Aug 2020   Pseudo R-squ.:                  0.2978\n",
      "Time:                        10:26:31   Log-Likelihood:                -554.85\n",
      "converged:                       True   LL-Null:                       -790.21\n",
      "                                        LLR p-value:                 8.706e-91\n",
      "==============================================================================\n",
      "                 coef    std err          z      P>|z|      [0.025      0.975]\n",
      "------------------------------------------------------------------------------\n",
      "const         -4.3840      0.208    -21.028      0.000      -4.793      -3.975\n",
      "x1             2.0998      0.200     10.509      0.000       1.708       2.491\n",
      "x2            -0.1508      0.094     -1.613      0.107      -0.334       0.032\n",
      "x3            -1.9483      2.498     -0.780      0.435      -6.844       2.947\n",
      "x4             4.1174      4.879      0.844      0.399      -5.445      13.679\n",
      "x5            -3.3276      4.278     -0.778      0.437     -11.712       5.057\n",
      "x6            -0.4153      0.814     -0.510      0.610      -2.011       1.181\n",
      "x7             0.0362      0.078      0.464      0.643      -0.117       0.190\n",
      "x8            -0.0628      0.313     -0.201      0.841      -0.677       0.551\n",
      "x9            -0.3501      0.233     -1.506      0.132      -0.806       0.106\n",
      "x10            0.4781      0.844      0.567      0.571      -1.176       2.132\n",
      "x11           -0.2834      0.100     -2.836      0.005      -0.479      -0.088\n",
      "x12            0.1449      0.048      3.021      0.003       0.051       0.239\n",
      "x13            0.3457      0.102      3.373      0.001       0.145       0.547\n",
      "x14            0.1295      0.044      2.921      0.003       0.043       0.216\n",
      "x15            0.1134      0.059      1.913      0.056      -0.003       0.230\n",
      "==============================================================================\n"
     ]
    }
   ],
   "source": [
    "# look at the summary of model \n",
    "print(result.summary())"
   ]
  },
  {
   "cell_type": "code",
   "execution_count": 34,
   "metadata": {},
   "outputs": [
    {
     "data": {
      "text/plain": [
       "const    3.607899e-98\n",
       "x1       7.841875e-26\n",
       "x11      4.567919e-03\n",
       "x12      2.519306e-03\n",
       "x13      7.446808e-04\n",
       "x14      3.491910e-03\n",
       "dtype: float64"
      ]
     },
     "execution_count": 34,
     "metadata": {},
     "output_type": "execute_result"
    }
   ],
   "source": [
    "result.pvalues[result.pvalues<0.05]"
   ]
  },
  {
   "cell_type": "code",
   "execution_count": 35,
   "metadata": {},
   "outputs": [],
   "source": [
    "select_features1 = ['Age','CVD','Hypertension','PVD','Activity',]"
   ]
  },
  {
   "cell_type": "markdown",
   "metadata": {},
   "source": [
    "# Imbalance Problem\n",
    "\n",
    "\n",
    "From very begining of the notebook, we can find the class ratio of our dataset is 0.067, which means our dataset has a big unbalaced representation among the classes. <b> When the imbalance is larger, the classification accuracy on the smaller class will tend to be lower. </b> In particularly, when a class is of great interest but occurs relatively rarely, such as instances of CKD (or cases of fraud), it is important to accurately identify them.\n",
    "\n",
    "\n",
    "There are two common methods for imbalance problem:\n",
    "1. <b>Oversampling</b> technique is to randomly duplicate examples in the minority class. However, this will easily cause overfitting issues. <b>SMOTE</b> is an advanced oversampling techinique, it's not just copying the existing instances from minority class. Instead, the algorithm takes samples of the feature space for each target class and its nearest neighbors, and generates new examples that combine features of the target case with features of its neighbors.\n",
    "2. <b>Undersampling</b> technique is to randomly remove samples from the majority class and this will potentially discard some important samples. <b>EasyEnsemble</b> is to samples several subsets from the majority class to create a balanced dataset. A classifier is then trained on this reduced dataset and generate predictions for the test set. This procedure is repeated multiple times, and the outputs of those learners are finally combined.\n",
    "\n",
    "\n",
    "In this project, I'm going to use <b>EasyEnsemble</b> because the imbalance in our case is really huge."
   ]
  },
  {
   "cell_type": "code",
   "execution_count": 36,
   "metadata": {},
   "outputs": [],
   "source": [
    "from imblearn.ensemble import EasyEnsembleClassifier \n",
    "from collections import Counter\n",
    "from sklearn.linear_model import LogisticRegression\n",
    "import scikitplot as skplt"
   ]
  },
  {
   "cell_type": "markdown",
   "metadata": {},
   "source": [
    "Derive 3rd model (EasyEnsemble with RF selected features)"
   ]
  },
  {
   "cell_type": "code",
   "execution_count": 37,
   "metadata": {},
   "outputs": [],
   "source": [
    "clf1 = LogisticRegression()\n",
    "eec1 = EasyEnsembleClassifier(base_estimator=clf1,replacement=False,n_estimators=14,random_state=2)\n",
    "eec1.fit(X_norm_std_train_select, y_train) # choose the features for training and test at the same time\n",
    "y_pred1 = eec1.predict(X_norm_std_test_select)"
   ]
  },
  {
   "cell_type": "markdown",
   "metadata": {},
   "source": [
    "Derive 4th model (EasyEnsemble with LR selected features)"
   ]
  },
  {
   "cell_type": "code",
   "execution_count": 38,
   "metadata": {},
   "outputs": [],
   "source": [
    "normalizer = StandardScaler()\n",
    "normalizer.fit(X_norm_std_train[select_features1])\n",
    "X_norm_std_train_select1 = normalizer.transform(X_norm_std_train[select_features1])\n",
    "X_norm_std_test_select1 = normalizer.transform(X_norm_std_test[select_features1])\n",
    "clf2 = LogisticRegression()\n",
    "eec2 = EasyEnsembleClassifier(base_estimator=clf2,replacement=False,n_estimators=14,random_state=2)\n",
    "eec2.fit(X_norm_std_train_select1, y_train) # choose the features for training and test at the same time\n",
    "y_pred2 = eec2.predict(X_norm_std_test_select1)"
   ]
  },
  {
   "cell_type": "markdown",
   "metadata": {},
   "source": [
    "Derive 5th model (EasyEnsemble with Bayes selected features)"
   ]
  },
  {
   "cell_type": "code",
   "execution_count": 39,
   "metadata": {},
   "outputs": [],
   "source": [
    "normalizer = StandardScaler()\n",
    "normalizer.fit(X_norm_std_train[comb_prob_col])\n",
    "X_norm_std_train_select2 = normalizer.transform(X_norm_std_train[comb_prob_col])\n",
    "X_norm_std_test_select2 = normalizer.transform(X_norm_std_test[comb_prob_col])\n",
    "clf3 = LogisticRegression()\n",
    "eec3 = EasyEnsembleClassifier(base_estimator=clf3,replacement=False,n_estimators=14,random_state=2)\n",
    "eec3.fit(X_norm_std_train_select2, y_train) # choose the features for training and test at the same time\n",
    "y_pred3 = eec3.predict(X_norm_std_test_select2)"
   ]
  },
  {
   "cell_type": "markdown",
   "metadata": {},
   "source": [
    "Derive 6th model (EasyEnsemble with [RF + Bayes] selected features)"
   ]
  },
  {
   "cell_type": "code",
   "execution_count": 40,
   "metadata": {},
   "outputs": [],
   "source": [
    "normalizer = StandardScaler()\n",
    "normalizer.fit(X_norm_std_train[common_col])\n",
    "X_norm_std_train_select3 = normalizer.transform(X_norm_std_train[common_col])\n",
    "X_norm_std_test_select3 = normalizer.transform(X_norm_std_test[common_col])\n",
    "clf4 = LogisticRegression()\n",
    "eec4 = EasyEnsembleClassifier(base_estimator=clf4,replacement=False,n_estimators=14,random_state=2)\n",
    "eec4.fit(X_norm_std_train_select3, y_train) # choose the features for training and test at the same time\n",
    "y_pred4 = eec4.predict(X_norm_std_test_select3)"
   ]
  },
  {
   "cell_type": "markdown",
   "metadata": {},
   "source": [
    "# Model Comparison\n",
    "\n",
    "## Confusion Matrix\n",
    "\n",
    "Confusion Matrix is a performance measurement for machine learning classification problem where the output can two or more classes. It is a table of 4 combination of predictions and actual values.\n",
    "\n",
    "<img src=\"confusion_matrix.png\" width=\"40%\">\n",
    "\n",
    "It is useful to measure the <b> Accuracy, Recall, Precision and AUC-ROC Curve. </b>\n",
    "\n",
    "$$Accuracy = \\frac{ TP + TN }{ TP + FN + TN + FP }$$\n",
    "\n",
    "(However, accuracy is a good measure only for symmetric dataset.)\n",
    "\n",
    "$$Recall = \\frac{ TP }{ TP + FN  }$$\n",
    "\n",
    "(High recall relates to the low false negative rate. Think about the cancer detection case.)\n",
    "\n",
    "$$Precision = \\frac{ TP }{ TP + FP  }$$\n",
    "\n",
    "(High precision relates to the low false positive rate.)\n",
    "\n",
    "\n",
    "<b>F1-score</b> helps to measure the recall and precision at the same time, taking both false positives and false negatives into account.\n",
    "\n",
    "$$F1-score = \\frac{ 2*(Recall * Precision) }{ Recall + Precision }$$\n"
   ]
  },
  {
   "cell_type": "code",
   "execution_count": 41,
   "metadata": {},
   "outputs": [
    {
     "name": "stdout",
     "output_type": "stream",
     "text": [
      "              precision    recall  f1-score   support\n",
      "\n",
      "           0       0.99      0.74      0.85       775\n",
      "           1       0.20      0.94      0.33        53\n",
      "\n",
      "    accuracy                           0.75       828\n",
      "   macro avg       0.60      0.84      0.59       828\n",
      "weighted avg       0.94      0.75      0.81       828\n",
      "\n"
     ]
    }
   ],
   "source": [
    "from sklearn.metrics import classification_report\n",
    "print(classification_report(y_test, y_pred1, labels=[0,1]))"
   ]
  },
  {
   "cell_type": "code",
   "execution_count": 42,
   "metadata": {},
   "outputs": [
    {
     "data": {
      "image/png": "[encoded data removed]",
      "text/plain": [
       "<Figure size 432x288 with 2 Axes>"
      ]
     },
     "metadata": {
      "needs_background": "light"
     },
     "output_type": "display_data"
    },
    {
     "data": {
      "image/png": "[encoded data removed]",
      "text/plain": [
       "<Figure size 432x288 with 2 Axes>"
      ]
     },
     "metadata": {
      "needs_background": "light"
     },
     "output_type": "display_data"
    }
   ],
   "source": [
    "#confusion matrix\n",
    "skplt.metrics.plot_confusion_matrix(y_test, y_pred1, normalize=False)\n",
    "skplt.metrics.plot_confusion_matrix(y_test, y_pred1, normalize=True)\n",
    "plt.show()"
   ]
  },
  {
   "cell_type": "code",
   "execution_count": 43,
   "metadata": {},
   "outputs": [
    {
     "name": "stdout",
     "output_type": "stream",
     "text": [
      "              precision    recall  f1-score   support\n",
      "\n",
      "           0       0.99      0.74      0.85       775\n",
      "           1       0.19      0.91      0.32        53\n",
      "\n",
      "    accuracy                           0.75       828\n",
      "   macro avg       0.59      0.82      0.58       828\n",
      "weighted avg       0.94      0.75      0.81       828\n",
      "\n"
     ]
    }
   ],
   "source": [
    "from sklearn.metrics import classification_report\n",
    "print(classification_report(y_test, y_pred2, labels=[0,1]))"
   ]
  },
  {
   "cell_type": "code",
   "execution_count": 44,
   "metadata": {},
   "outputs": [
    {
     "data": {
      "image/png": "[encoded data removed]",
      "text/plain": [
       "<Figure size 432x288 with 2 Axes>"
      ]
     },
     "metadata": {
      "needs_background": "light"
     },
     "output_type": "display_data"
    },
    {
     "data": {
      "image/png": "[encoded data removed]",
      "text/plain": [
       "<Figure size 432x288 with 2 Axes>"
      ]
     },
     "metadata": {
      "needs_background": "light"
     },
     "output_type": "display_data"
    }
   ],
   "source": [
    "#confusion matrix\n",
    "skplt.metrics.plot_confusion_matrix(y_test, y_pred2, normalize=False)\n",
    "skplt.metrics.plot_confusion_matrix(y_test, y_pred2, normalize=True)\n",
    "plt.show()"
   ]
  },
  {
   "cell_type": "code",
   "execution_count": 45,
   "metadata": {},
   "outputs": [
    {
     "name": "stdout",
     "output_type": "stream",
     "text": [
      "              precision    recall  f1-score   support\n",
      "\n",
      "           0       0.99      0.76      0.86       775\n",
      "           1       0.21      0.94      0.35        53\n",
      "\n",
      "    accuracy                           0.77       828\n",
      "   macro avg       0.60      0.85      0.60       828\n",
      "weighted avg       0.94      0.77      0.83       828\n",
      "\n"
     ]
    }
   ],
   "source": [
    "from sklearn.metrics import classification_report\n",
    "print(classification_report(y_test, y_pred3, labels=[0,1]))"
   ]
  },
  {
   "cell_type": "code",
   "execution_count": 46,
   "metadata": {},
   "outputs": [
    {
     "data": {
      "image/png": "[encoded data removed]",
      "text/plain": [
       "<Figure size 432x288 with 2 Axes>"
      ]
     },
     "metadata": {
      "needs_background": "light"
     },
     "output_type": "display_data"
    },
    {
     "data": {
      "image/png": "[encoded data removed]",
      "text/plain": [
       "<Figure size 432x288 with 2 Axes>"
      ]
     },
     "metadata": {
      "needs_background": "light"
     },
     "output_type": "display_data"
    }
   ],
   "source": [
    "#confusion matrix\n",
    "skplt.metrics.plot_confusion_matrix(y_test, y_pred3, normalize=False)\n",
    "skplt.metrics.plot_confusion_matrix(y_test, y_pred3, normalize=True)\n",
    "plt.show()"
   ]
  },
  {
   "cell_type": "code",
   "execution_count": 47,
   "metadata": {},
   "outputs": [
    {
     "name": "stdout",
     "output_type": "stream",
     "text": [
      "              precision    recall  f1-score   support\n",
      "\n",
      "           0       0.99      0.76      0.86       775\n",
      "           1       0.21      0.94      0.35        53\n",
      "\n",
      "    accuracy                           0.77       828\n",
      "   macro avg       0.60      0.85      0.60       828\n",
      "weighted avg       0.94      0.77      0.83       828\n",
      "\n"
     ]
    }
   ],
   "source": [
    "from sklearn.metrics import classification_report\n",
    "print(classification_report(y_test, y_pred3, labels=[0,1]))"
   ]
  },
  {
   "cell_type": "code",
   "execution_count": 48,
   "metadata": {},
   "outputs": [
    {
     "data": {
      "image/png": "[encoded data removed]",
      "text/plain": [
       "<Figure size 432x288 with 2 Axes>"
      ]
     },
     "metadata": {
      "needs_background": "light"
     },
     "output_type": "display_data"
    },
    {
     "data": {
      "image/png": "[encoded data removed]",
      "text/plain": [
       "<Figure size 432x288 with 2 Axes>"
      ]
     },
     "metadata": {
      "needs_background": "light"
     },
     "output_type": "display_data"
    }
   ],
   "source": [
    "#confusion matrix\n",
    "skplt.metrics.plot_confusion_matrix(y_test, y_pred4, normalize=False)\n",
    "skplt.metrics.plot_confusion_matrix(y_test, y_pred4, normalize=True)\n",
    "plt.show()"
   ]
  },
  {
   "cell_type": "markdown",
   "metadata": {},
   "source": [
    "# ROC-AUC Curve\n",
    "\n",
    "Firstly, let's go through the following terms:\n",
    "\n",
    "$$Recall/Sensitivity/TPR(True\\ Positive\\ Rate) = \\frac{ TP }{ TP + FN  }$$\n",
    "\n",
    "$$Specificity = \\frac{ TF }{ TF + FP }$$\n",
    "\n",
    "$$FPR(False\\ Positive\\ Rate) = 1 - Specificity = \\frac{ FP }{ TN + FP }$$\n",
    "\n",
    "\n",
    "ROC (Reciever Operating Characteristics) curve is a probability curve and AUC (Area Under Curve) represents degree of or measure of separability. Higher the AUC, better the model can distinguish between different classes.\n",
    "\n",
    "<img src=\"ROC_AUC.png\" width=\"40%\">\n",
    "\n",
    "The ROC is plotted with TPR against FPR where TPR is on y-axis and FPR is on x-axis. We can have different confusion matrixs with different thresholds, and we can derive different points (TPR,FPR). After connecting all the points, we can have our ROC curve.\n",
    "\n",
    "\n",
    "## Important Note\n",
    "\n",
    "Depending on how many FPR I'm willing to accept, the optimal threshold maybe different. For example, in our case, we need to accurately identify every disease case, therefore, we prefer to chose threshold 2 with low TPR but lower FPR.\n",
    "\n",
    "\n",
    "<img src=\"ROC.png\" width=\"40%\">"
   ]
  },
  {
   "cell_type": "code",
   "execution_count": 49,
   "metadata": {},
   "outputs": [],
   "source": [
    "# get the probabilities\n",
    "y_pred_prob1 = eec1.predict_proba(X_norm_std_test_select)\n",
    "y_pred_prob2 = eec2.predict_proba(X_norm_std_test_select1)\n",
    "y_pred_prob3 = eec3.predict_proba(X_norm_std_test_select2)\n",
    "y_pred_prob4 = eec4.predict_proba(X_norm_std_test_select3)\n",
    "y_pred_prob5 = model_rf.predict_proba(X_norm_std_test_select)"
   ]
  },
  {
   "cell_type": "code",
   "execution_count": 50,
   "metadata": {},
   "outputs": [],
   "source": [
    "# only get CKD=1 probabilities\n",
    "prob1=eec1.predict_proba(X_norm_std_test_select)[::,1]\n",
    "prob2=eec2.predict_proba(X_norm_std_test_select1)[::,1]\n",
    "prob3=eec3.predict_proba(X_norm_std_test_select2)[::,1]\n",
    "prob4=eec4.predict_proba(X_norm_std_test_select3)[::,1]\n",
    "prob5=model_rf.predict_proba(X_norm_std_test_select)[::,1]"
   ]
  },
  {
   "cell_type": "code",
   "execution_count": 51,
   "metadata": {},
   "outputs": [],
   "source": [
    "# ROC\n",
    "from sklearn.metrics import roc_curve, roc_auc_score\n",
    "\n",
    "result_table = pd.DataFrame(columns=['fpr','tpr','auc'])\n",
    "probs=[prob1,prob2,prob3,prob4,prob5]\n",
    "for prob in probs:        \n",
    "    fpr, tpr, _ = roc_curve(y_test,  prob)\n",
    "    auc = roc_auc_score(y_test, prob)\n",
    "    \n",
    "    result_table = result_table.append({'fpr':fpr, \n",
    "                                        'tpr':tpr, \n",
    "                                        'auc':auc}, ignore_index=True)"
   ]
  },
  {
   "cell_type": "code",
   "execution_count": 52,
   "metadata": {},
   "outputs": [
    {
     "data": {
      "text/html": [
       "<div>\n",
       "<style scoped>\n",
       "    .dataframe tbody tr th:only-of-type {\n",
       "        vertical-align: middle;\n",
       "    }\n",
       "\n",
       "    .dataframe tbody tr th {\n",
       "        vertical-align: top;\n",
       "    }\n",
       "\n",
       "    .dataframe thead th {\n",
       "        text-align: right;\n",
       "    }\n",
       "</style>\n",
       "<table border=\"1\" class=\"dataframe\">\n",
       "  <thead>\n",
       "    <tr style=\"text-align: right;\">\n",
       "      <th></th>\n",
       "      <th>fpr</th>\n",
       "      <th>tpr</th>\n",
       "      <th>auc</th>\n",
       "    </tr>\n",
       "  </thead>\n",
       "  <tbody>\n",
       "    <tr>\n",
       "      <th>fea1_ensembling</th>\n",
       "      <td>[0.0, 0.0012903225806451613, 0.001290322580645...</td>\n",
       "      <td>[0.0, 0.0, 0.03773584905660377, 0.037735849056...</td>\n",
       "      <td>0.916957</td>\n",
       "    </tr>\n",
       "    <tr>\n",
       "      <th>fea2_ensembling</th>\n",
       "      <td>[0.0, 0.0, 0.0025806451612903226, 0.0025806451...</td>\n",
       "      <td>[0.0, 0.018867924528301886, 0.0188679245283018...</td>\n",
       "      <td>0.904662</td>\n",
       "    </tr>\n",
       "    <tr>\n",
       "      <th>fea3_ensembling</th>\n",
       "      <td>[0.0, 0.0, 0.0012903225806451613, 0.0012903225...</td>\n",
       "      <td>[0.0, 0.018867924528301886, 0.0188679245283018...</td>\n",
       "      <td>0.915496</td>\n",
       "    </tr>\n",
       "    <tr>\n",
       "      <th>fea4_ensembling</th>\n",
       "      <td>[0.0, 0.0012903225806451613, 0.001290322580645...</td>\n",
       "      <td>[0.0, 0.0, 0.05660377358490566, 0.056603773584...</td>\n",
       "      <td>0.912209</td>\n",
       "    </tr>\n",
       "    <tr>\n",
       "      <th>fea1_rf</th>\n",
       "      <td>[0.0, 0.0, 0.0012903225806451613, 0.0025806451...</td>\n",
       "      <td>[0.0, 0.018867924528301886, 0.0188679245283018...</td>\n",
       "      <td>0.889117</td>\n",
       "    </tr>\n",
       "  </tbody>\n",
       "</table>\n",
       "</div>"
      ],
      "text/plain": [
       "                                                               fpr  \\\n",
       "fea1_ensembling  [0.0, 0.0012903225806451613, 0.001290322580645...   \n",
       "fea2_ensembling  [0.0, 0.0, 0.0025806451612903226, 0.0025806451...   \n",
       "fea3_ensembling  [0.0, 0.0, 0.0012903225806451613, 0.0012903225...   \n",
       "fea4_ensembling  [0.0, 0.0012903225806451613, 0.001290322580645...   \n",
       "fea1_rf          [0.0, 0.0, 0.0012903225806451613, 0.0025806451...   \n",
       "\n",
       "                                                               tpr       auc  \n",
       "fea1_ensembling  [0.0, 0.0, 0.03773584905660377, 0.037735849056...  0.916957  \n",
       "fea2_ensembling  [0.0, 0.018867924528301886, 0.0188679245283018...  0.904662  \n",
       "fea3_ensembling  [0.0, 0.018867924528301886, 0.0188679245283018...  0.915496  \n",
       "fea4_ensembling  [0.0, 0.0, 0.05660377358490566, 0.056603773584...  0.912209  \n",
       "fea1_rf          [0.0, 0.018867924528301886, 0.0188679245283018...  0.889117  "
      ]
     },
     "execution_count": 52,
     "metadata": {},
     "output_type": "execute_result"
    }
   ],
   "source": [
    "result_table.index=['fea1_ensembling','fea2_ensembling','fea3_ensembling', 'fea4_ensembling','fea1_rf']\n",
    "result_table"
   ]
  },
  {
   "cell_type": "code",
   "execution_count": 53,
   "metadata": {},
   "outputs": [
    {
     "data": {
      "image/png": "[encoded data removed]",
      "text/plain": [
       "<Figure size 576x432 with 1 Axes>"
      ]
     },
     "metadata": {
      "needs_background": "light"
     },
     "output_type": "display_data"
    }
   ],
   "source": [
    "fig = plt.figure(figsize=(8,6))\n",
    "\n",
    "for i in result_table.index:\n",
    "    plt.plot(result_table.loc[i]['fpr'], \n",
    "             result_table.loc[i]['tpr'], \n",
    "             label=\"{}, AUC={:.3f}\".format(i, result_table.loc[i]['auc']))\n",
    "    \n",
    "plt.plot([0,1], [0,1], color='orange', linestyle='--')\n",
    "\n",
    "plt.xticks(np.arange(0.0, 1.1, step=0.1))\n",
    "plt.xlabel(\"Flase Positive Rate\", fontsize=15)\n",
    "\n",
    "plt.yticks(np.arange(0.0, 1.1, step=0.1))\n",
    "plt.ylabel(\"True Positive Rate\", fontsize=15)\n",
    "\n",
    "plt.title('ROC Curve Analysis', fontweight='bold', fontsize=15)\n",
    "plt.legend(prop={'size':13}, loc='lower right')\n",
    "\n",
    "plt.show()\n",
    "\n",
    "# fea1_ensembling: features are selected by Random Forest, using easy ensembling for imbalanced data\n",
    "# fea2_ensembling: features are selected by StatisModel, using easy ensembling for imbalanced data\n",
    "# fea3_ensembling: features are selected by Bayes Statistics, using easy ensembling for imbalanced data\n",
    "# fea4_ensembling: features are common features of fea1 and fea3, using easy ensembling for imbalanced data\n",
    "# fea1_rf: features are selected by Random Forest using imbalanced data\n",
    "\n",
    "# fea3_ensembling is the optimal one"
   ]
  },
  {
   "cell_type": "markdown",
   "metadata": {},
   "source": [
    "## Evaluation\n",
    "\n",
    "Here are some findings from above ROC curve:\n",
    "\n",
    "1. As for AUC, the blue curve performs the best among all results.\n",
    "2. The green curve is able to have lower FPR, which should be considered first in our case.\n",
    "3. The purple curve performs the worst which indicates that Easy ensembling method is useful to address the imbalance data issue."
   ]
  },
  {
   "cell_type": "markdown",
   "metadata": {},
   "source": [
    "## Model Interpretation"
   ]
  },
  {
   "cell_type": "markdown",
   "metadata": {},
   "source": [
    "Now we can calculate the average coef of each features, they are in Dec order"
   ]
  },
  {
   "cell_type": "code",
   "execution_count": 95,
   "metadata": {},
   "outputs": [
    {
     "data": {
      "text/plain": [
       "array([[0.15236089, 0.12008294, 0.12183483, 0.13086754, 0.23031774,\n",
       "        0.06008996, 0.40080363, 1.70656321, 0.21154441, 0.09203066,\n",
       "        0.22157383, 0.12282013, 0.13277089, 0.0897521 , 0.10941679]])"
      ]
     },
     "execution_count": 95,
     "metadata": {},
     "output_type": "execute_result"
    }
   ],
   "source": [
    "coefs = []\n",
    "for pipeline in eec3.estimators_:\n",
    "    coefs.append(abs(pipeline[1].coef_))\n",
    "coefs = np.array(coefs).mean(axis=0)\n",
    "coefs"
   ]
  },
  {
   "cell_type": "code",
   "execution_count": 96,
   "metadata": {},
   "outputs": [
    {
     "name": "stderr",
     "output_type": "stream",
     "text": [
      "C:\\Users\\yangw\\Anaconda3\\lib\\site-packages\\ipykernel_launcher.py:2: FutureWarning: by argument to sort_index is deprecated, please use .sort_values(by=...)\n",
      "  \n"
     ]
    },
    {
     "data": {
      "text/html": [
       "<div>\n",
       "<style scoped>\n",
       "    .dataframe tbody tr th:only-of-type {\n",
       "        vertical-align: middle;\n",
       "    }\n",
       "\n",
       "    .dataframe tbody tr th {\n",
       "        vertical-align: top;\n",
       "    }\n",
       "\n",
       "    .dataframe thead th {\n",
       "        text-align: right;\n",
       "    }\n",
       "</style>\n",
       "<table border=\"1\" class=\"dataframe\">\n",
       "  <thead>\n",
       "    <tr style=\"text-align: right;\">\n",
       "      <th></th>\n",
       "      <th>features</th>\n",
       "      <th>coef</th>\n",
       "    </tr>\n",
       "  </thead>\n",
       "  <tbody>\n",
       "    <tr>\n",
       "      <th>7</th>\n",
       "      <td>Age</td>\n",
       "      <td>1.706563</td>\n",
       "    </tr>\n",
       "    <tr>\n",
       "      <th>6</th>\n",
       "      <td>Hypertension</td>\n",
       "      <td>0.400804</td>\n",
       "    </tr>\n",
       "    <tr>\n",
       "      <th>4</th>\n",
       "      <td>Diabetes</td>\n",
       "      <td>0.230318</td>\n",
       "    </tr>\n",
       "    <tr>\n",
       "      <th>10</th>\n",
       "      <td>Racegrpwhite</td>\n",
       "      <td>0.221574</td>\n",
       "    </tr>\n",
       "    <tr>\n",
       "      <th>8</th>\n",
       "      <td>Anemia</td>\n",
       "      <td>0.211544</td>\n",
       "    </tr>\n",
       "    <tr>\n",
       "      <th>0</th>\n",
       "      <td>Stroke</td>\n",
       "      <td>0.152361</td>\n",
       "    </tr>\n",
       "    <tr>\n",
       "      <th>12</th>\n",
       "      <td>Smoker</td>\n",
       "      <td>0.132771</td>\n",
       "    </tr>\n",
       "    <tr>\n",
       "      <th>3</th>\n",
       "      <td>CHF</td>\n",
       "      <td>0.130868</td>\n",
       "    </tr>\n",
       "    <tr>\n",
       "      <th>11</th>\n",
       "      <td>Waist</td>\n",
       "      <td>0.122820</td>\n",
       "    </tr>\n",
       "    <tr>\n",
       "      <th>2</th>\n",
       "      <td>CVD</td>\n",
       "      <td>0.121835</td>\n",
       "    </tr>\n",
       "    <tr>\n",
       "      <th>1</th>\n",
       "      <td>PVD</td>\n",
       "      <td>0.120083</td>\n",
       "    </tr>\n",
       "    <tr>\n",
       "      <th>14</th>\n",
       "      <td>CareSourceDrHMO</td>\n",
       "      <td>0.109417</td>\n",
       "    </tr>\n",
       "    <tr>\n",
       "      <th>9</th>\n",
       "      <td>SBP</td>\n",
       "      <td>0.092031</td>\n",
       "    </tr>\n",
       "    <tr>\n",
       "      <th>13</th>\n",
       "      <td>Unmarried</td>\n",
       "      <td>0.089752</td>\n",
       "    </tr>\n",
       "    <tr>\n",
       "      <th>5</th>\n",
       "      <td>PoorVision</td>\n",
       "      <td>0.060090</td>\n",
       "    </tr>\n",
       "  </tbody>\n",
       "</table>\n",
       "</div>"
      ],
      "text/plain": [
       "           features      coef\n",
       "7               Age  1.706563\n",
       "6      Hypertension  0.400804\n",
       "4          Diabetes  0.230318\n",
       "10     Racegrpwhite  0.221574\n",
       "8            Anemia  0.211544\n",
       "0            Stroke  0.152361\n",
       "12           Smoker  0.132771\n",
       "3               CHF  0.130868\n",
       "11            Waist  0.122820\n",
       "2               CVD  0.121835\n",
       "1               PVD  0.120083\n",
       "14  CareSourceDrHMO  0.109417\n",
       "9               SBP  0.092031\n",
       "13        Unmarried  0.089752\n",
       "5        PoorVision  0.060090"
      ]
     },
     "execution_count": 96,
     "metadata": {},
     "output_type": "execute_result"
    }
   ],
   "source": [
    "features_bayes = pd.DataFrame({'features':comb_prob_col,'coef':list(coefs.ravel())})\n",
    "features_bayes.sort_index(axis = 0,ascending = False,by=['coef'])"
   ]
  },
  {
   "cell_type": "markdown",
   "metadata": {},
   "source": [
    "Now we decide to chose top 6 features to simplify the model"
   ]
  },
  {
   "cell_type": "code",
   "execution_count": 104,
   "metadata": {},
   "outputs": [
    {
     "name": "stderr",
     "output_type": "stream",
     "text": [
      "C:\\Users\\yangw\\Anaconda3\\lib\\site-packages\\ipykernel_launcher.py:1: FutureWarning: by argument to sort_index is deprecated, please use .sort_values(by=...)\n",
      "  \"\"\"Entry point for launching an IPython kernel.\n"
     ]
    }
   ],
   "source": [
    "top_6 = features_bayes.sort_index(axis = 0,ascending = False,by=['coef'])[:6]"
   ]
  },
  {
   "cell_type": "code",
   "execution_count": 105,
   "metadata": {},
   "outputs": [
    {
     "data": {
      "text/plain": [
       "['Age', 'Hypertension', 'Diabetes', 'Racegrpwhite', 'Anemia', 'Stroke']"
      ]
     },
     "execution_count": 105,
     "metadata": {},
     "output_type": "execute_result"
    }
   ],
   "source": [
    "top_6_features = list(top_6['features'])\n",
    "top_6_features"
   ]
  },
  {
   "cell_type": "code",
   "execution_count": 106,
   "metadata": {},
   "outputs": [],
   "source": [
    "normalizer = StandardScaler()\n",
    "normalizer.fit(X_norm_std_train[top_6_features])\n",
    "X_norm_std_train_select_top6 = normalizer.transform(X_norm_std_train[top_6_features])\n",
    "X_norm_std_test_select_top6 = normalizer.transform(X_norm_std_test[top_6_features])\n",
    "clf = LogisticRegression()\n",
    "eec_top6 = EasyEnsembleClassifier(base_estimator=clf,replacement=False,n_estimators=14,random_state=2)\n",
    "eec_top6.fit(X_norm_std_train_select_top6, y_train) # choose the features for training and test at the same time\n",
    "y_pred_top6 = eec_top6.predict(X_norm_std_test_select_top6)"
   ]
  },
  {
   "cell_type": "code",
   "execution_count": 108,
   "metadata": {},
   "outputs": [
    {
     "name": "stdout",
     "output_type": "stream",
     "text": [
      "              precision    recall  f1-score   support\n",
      "\n",
      "           0       0.99      0.76      0.86       775\n",
      "           1       0.20      0.89      0.33        53\n",
      "\n",
      "    accuracy                           0.77       828\n",
      "   macro avg       0.60      0.82      0.60       828\n",
      "weighted avg       0.94      0.77      0.83       828\n",
      "\n"
     ]
    }
   ],
   "source": [
    "print(classification_report(y_test, y_pred_top6, labels=[0,1]))"
   ]
  },
  {
   "cell_type": "markdown",
   "metadata": {},
   "source": [
    "We can see that removing last 9 features doesn't chaneg our result"
   ]
  },
  {
   "cell_type": "code",
   "execution_count": 109,
   "metadata": {},
   "outputs": [
    {
     "data": {
      "text/plain": [
       "array([[1.72968446, 0.39944954, 0.25591995, 0.23889639, 0.22408358,\n",
       "        0.21032557]])"
      ]
     },
     "execution_count": 109,
     "metadata": {},
     "output_type": "execute_result"
    }
   ],
   "source": [
    "coefs = []\n",
    "for pipeline in eec_top6.estimators_:\n",
    "    coefs.append(pipeline[1].coef_)\n",
    "coefs = np.array(coefs).mean(axis=0)\n",
    "coefs"
   ]
  },
  {
   "cell_type": "markdown",
   "metadata": {},
   "source": [
    "Now, we chose following features as our survey questions"
   ]
  },
  {
   "cell_type": "code",
   "execution_count": 110,
   "metadata": {},
   "outputs": [
    {
     "data": {
      "text/html": [
       "<div>\n",
       "<style scoped>\n",
       "    .dataframe tbody tr th:only-of-type {\n",
       "        vertical-align: middle;\n",
       "    }\n",
       "\n",
       "    .dataframe tbody tr th {\n",
       "        vertical-align: top;\n",
       "    }\n",
       "\n",
       "    .dataframe thead th {\n",
       "        text-align: right;\n",
       "    }\n",
       "</style>\n",
       "<table border=\"1\" class=\"dataframe\">\n",
       "  <thead>\n",
       "    <tr style=\"text-align: right;\">\n",
       "      <th></th>\n",
       "      <th>features</th>\n",
       "      <th>coef</th>\n",
       "    </tr>\n",
       "  </thead>\n",
       "  <tbody>\n",
       "    <tr>\n",
       "      <th>0</th>\n",
       "      <td>Age</td>\n",
       "      <td>1.729684</td>\n",
       "    </tr>\n",
       "    <tr>\n",
       "      <th>1</th>\n",
       "      <td>Hypertension</td>\n",
       "      <td>0.399450</td>\n",
       "    </tr>\n",
       "    <tr>\n",
       "      <th>2</th>\n",
       "      <td>Diabetes</td>\n",
       "      <td>0.255920</td>\n",
       "    </tr>\n",
       "    <tr>\n",
       "      <th>3</th>\n",
       "      <td>Racegrpwhite</td>\n",
       "      <td>0.238896</td>\n",
       "    </tr>\n",
       "    <tr>\n",
       "      <th>4</th>\n",
       "      <td>Anemia</td>\n",
       "      <td>0.224084</td>\n",
       "    </tr>\n",
       "    <tr>\n",
       "      <th>5</th>\n",
       "      <td>Stroke</td>\n",
       "      <td>0.210326</td>\n",
       "    </tr>\n",
       "  </tbody>\n",
       "</table>\n",
       "</div>"
      ],
      "text/plain": [
       "       features      coef\n",
       "0           Age  1.729684\n",
       "1  Hypertension  0.399450\n",
       "2      Diabetes  0.255920\n",
       "3  Racegrpwhite  0.238896\n",
       "4        Anemia  0.224084\n",
       "5        Stroke  0.210326"
      ]
     },
     "execution_count": 110,
     "metadata": {},
     "output_type": "execute_result"
    }
   ],
   "source": [
    "pd.DataFrame({'features':top_6_features,'coef':list(coefs.ravel())})"
   ]
  },
  {
   "cell_type": "code",
   "execution_count": 111,
   "metadata": {},
   "outputs": [
    {
     "name": "stdout",
     "output_type": "stream",
     "text": [
      "[-1.49111644]\n"
     ]
    }
   ],
   "source": [
    "# get the average intercept\n",
    "intercepts = []\n",
    "for pipeline in eec_top6.estimators_:\n",
    "    intercepts.append(pipeline[1].intercept_)\n",
    "intercepts = np.array(intercepts).mean(axis=0)\n",
    "print(intercepts)"
   ]
  },
  {
   "cell_type": "markdown",
   "metadata": {},
   "source": [
    "### Formular Interpretation\n",
    "\n",
    "$$ln(p/1-p)= -1.49111644 + Age * 1.729684 + Hypertension * 0.399450 + Diabetes * 0.255920 + Racegrpwhite * 0.238896 + Anemia * 0.224084 + Stroke * 0.210326 $$"
   ]
  },
  {
   "cell_type": "code",
   "execution_count": null,
   "metadata": {},
   "outputs": [],
   "source": []
  }
 ],
 "metadata": {
  "kernelspec": {
   "display_name": "Python 3",
   "language": "python",
   "name": "python3"
  },
  "language_info": {
   "codemirror_mode": {
    "name": "ipython",
    "version": 3
   },
   "file_extension": ".py",
   "mimetype": "text/x-python",
   "name": "python",
   "nbconvert_exporter": "python",
   "pygments_lexer": "ipython3",
   "version": "3.6.8"
  }
 },
 "nbformat": 4,
 "nbformat_minor": 2
}
